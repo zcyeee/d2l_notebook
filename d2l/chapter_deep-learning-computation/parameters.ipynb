{
 "cells": [
  {
   "cell_type": "markdown",
   "id": "d0dbf3e8",
   "metadata": {},
   "source": [
    "# 参数管理"
   ]
  },
  {
   "cell_type": "markdown",
   "id": "b05be39e",
   "metadata": {
    "origin_pos": 0
   },
   "source": [
    "在选择了架构并设置了超参数后，我们就进入了训练阶段。\n",
    "此时，我们的目标是找到使损失函数最小化的模型参数值。\n",
    "经过训练后，我们将需要使用这些参数来做出未来的预测。\n",
    "此外，有时我们希望提取参数，以便在其他环境中复用它们，\n",
    "将模型保存下来，以便它可以在其他软件中执行，\n",
    "或者为了获得科学的理解而进行检查。\n",
    "\n",
    "之前的介绍中，我们只依靠深度学习框架来完成训练的工作，\n",
    "而忽略了操作参数的具体细节。\n",
    "本节，我们将介绍以下内容：\n",
    "\n",
    "* 访问参数，用于调试、诊断和可视化。\n",
    "* 参数初始化。\n",
    "* 在不同模型组件间共享参数。\n",
    "\n",
    "我们首先看一下具有单隐藏层的多层感知机。"
   ]
  },
  {
   "cell_type": "code",
   "execution_count": 1,
   "id": "ab7ef7a0",
   "metadata": {
    "execution": {
     "iopub.execute_input": "2023-08-18T07:01:09.649068Z",
     "iopub.status.busy": "2023-08-18T07:01:09.648305Z",
     "iopub.status.idle": "2023-08-18T07:01:10.928992Z",
     "shell.execute_reply": "2023-08-18T07:01:10.927959Z"
    },
    "origin_pos": 2,
    "tab": [
     "pytorch"
    ]
   },
   "outputs": [
    {
     "data": {
      "text/plain": [
       "tensor([[0.2095],\n",
       "        [0.3008]], grad_fn=<AddmmBackward0>)"
      ]
     },
     "execution_count": 1,
     "metadata": {},
     "output_type": "execute_result"
    }
   ],
   "source": [
    "import torch\n",
    "from torch import nn\n",
    "\n",
    "net = nn.Sequential(nn.Linear(4, 8), nn.ReLU(), nn.Linear(8, 1))  # X*W ；W1：4*8 ；W2：8*1\n",
    "X = torch.rand(size=(2, 4))\n",
    "net(X)"
   ]
  },
  {
   "cell_type": "markdown",
   "id": "bb3827be",
   "metadata": {},
   "source": [
    "## 参数访问"
   ]
  },
  {
   "cell_type": "markdown",
   "id": "fa004a12",
   "metadata": {
    "origin_pos": 5
   },
   "source": [
    "我们从已有模型中访问参数。\n",
    "当通过`Sequential`类定义模型时，\n",
    "我们可以通过索引来访问模型的任意层。\n",
    "这就像模型是一个列表一样，每层的参数都在其属性中。\n",
    "\n",
    "如下所示，我们可以检查第二个全连接层的参数。（Sequential 有点类似于列表）"
   ]
  },
  {
   "cell_type": "code",
   "execution_count": 2,
   "id": "5e2fff9a",
   "metadata": {
    "execution": {
     "iopub.execute_input": "2023-08-18T07:01:10.933865Z",
     "iopub.status.busy": "2023-08-18T07:01:10.933267Z",
     "iopub.status.idle": "2023-08-18T07:01:10.939922Z",
     "shell.execute_reply": "2023-08-18T07:01:10.938931Z"
    },
    "origin_pos": 7,
    "tab": [
     "pytorch"
    ]
   },
   "outputs": [
    {
     "name": "stdout",
     "output_type": "stream",
     "text": [
      "OrderedDict([('weight', tensor([[ 0.1474, -0.1005, -0.1211, -0.1969,  0.0370, -0.0961, -0.2079, -0.2861]])), ('bias', tensor([0.2102]))])\n"
     ]
    }
   ],
   "source": [
    "# state 在这里指的是权重（因为时常更新改变）\n",
    "# net[0] 是第一个全连接层，net[1] 是激活函数，net[2] 是第二个全连接层\n",
    "# state_dict 返回一个有序字典\n",
    "\n",
    "print(net[2].state_dict())  # 权重维度为 8*1"
   ]
  },
  {
   "cell_type": "markdown",
   "id": "5a3e6dd0",
   "metadata": {},
   "source": [
    "查看第一个全连接层的参数。"
   ]
  },
  {
   "cell_type": "code",
   "execution_count": 3,
   "id": "bd9332e6",
   "metadata": {},
   "outputs": [
    {
     "name": "stdout",
     "output_type": "stream",
     "text": [
      "OrderedDict([('weight', tensor([[-0.0338,  0.2812, -0.1727,  0.3583],\n",
      "        [ 0.2249, -0.1001, -0.0015,  0.0246],\n",
      "        [ 0.2970,  0.4888, -0.4791, -0.1889],\n",
      "        [ 0.3872,  0.3184,  0.0317, -0.4195],\n",
      "        [ 0.3415, -0.3930,  0.0937,  0.1587],\n",
      "        [-0.0172,  0.4755, -0.3854, -0.4830],\n",
      "        [-0.2102, -0.0159,  0.2338, -0.0565],\n",
      "        [ 0.0392,  0.3687, -0.4489, -0.1771]])), ('bias', tensor([ 0.4756,  0.0515,  0.2574, -0.3641,  0.3473, -0.2658,  0.0684, -0.4595]))])\n"
     ]
    }
   ],
   "source": [
    "print(net[0].state_dict())  # 权重维度为 4*8"
   ]
  },
  {
   "cell_type": "markdown",
   "id": "68ecea27",
   "metadata": {},
   "source": [
    "输出的结果告诉我们一些重要的事情：\n",
    "首先，这个全连接层包含两个参数，分别是该层的权重和偏置。\n",
    "两者都存储为单精度浮点数（float32）。\n",
    "注意，参数名称允许唯一标识每个参数，即使在包含数百个层的网络中也是如此。"
   ]
  },
  {
   "cell_type": "markdown",
   "id": "eb106405",
   "metadata": {},
   "source": [
    "### 目标参数"
   ]
  },
  {
   "cell_type": "markdown",
   "id": "b77c779c",
   "metadata": {
    "origin_pos": 9
   },
   "source": [
    "注意，每个参数都表示为参数类的一个实例。\n",
    "要对参数执行任何操作，首先我们需要访问底层的数值。\n",
    "有几种方法可以做到这一点。有些比较简单，而另一些则比较通用。\n",
    "下面的代码从第二个全连接层（即第三个神经网络层）提取偏置，\n",
    "提取后返回的是一个参数类实例，并进一步访问该参数的值。"
   ]
  },
  {
   "cell_type": "code",
   "execution_count": 4,
   "id": "d0682fff",
   "metadata": {
    "execution": {
     "iopub.execute_input": "2023-08-18T07:01:10.945104Z",
     "iopub.status.busy": "2023-08-18T07:01:10.944250Z",
     "iopub.status.idle": "2023-08-18T07:01:10.951764Z",
     "shell.execute_reply": "2023-08-18T07:01:10.950790Z"
    },
    "origin_pos": 11,
    "tab": [
     "pytorch"
    ]
   },
   "outputs": [
    {
     "name": "stdout",
     "output_type": "stream",
     "text": [
      "<class 'torch.nn.parameter.Parameter'>\n",
      "Parameter containing:\n",
      "tensor([0.2102], requires_grad=True)\n",
      "tensor([0.2102])\n"
     ]
    }
   ],
   "source": [
    "print(type(net[2].bias))\n",
    "print(net[2].bias)\n",
    "print(net[2].bias.data)"
   ]
  },
  {
   "cell_type": "markdown",
   "id": "b90565b1",
   "metadata": {
    "origin_pos": 14,
    "tab": [
     "pytorch"
    ]
   },
   "source": [
    "参数是复合的对象，包含值、梯度和额外信息。\n",
    "这就是我们需要显式参数值的原因。\n",
    "除了值之外，我们还可以访问每个参数的梯度。\n",
    "\n",
    "在上面这个网络中，由于我们还没有调用反向传播，所以参数的梯度处于初始状态。"
   ]
  },
  {
   "cell_type": "code",
   "execution_count": 5,
   "id": "3cf4d55b",
   "metadata": {
    "execution": {
     "iopub.execute_input": "2023-08-18T07:01:10.956378Z",
     "iopub.status.busy": "2023-08-18T07:01:10.955542Z",
     "iopub.status.idle": "2023-08-18T07:01:10.961810Z",
     "shell.execute_reply": "2023-08-18T07:01:10.960767Z"
    },
    "origin_pos": 16,
    "tab": [
     "pytorch"
    ]
   },
   "outputs": [
    {
     "data": {
      "text/plain": [
       "True"
      ]
     },
     "execution_count": 5,
     "metadata": {},
     "output_type": "execute_result"
    }
   ],
   "source": [
    "net[2].weight.grad == None"
   ]
  },
  {
   "cell_type": "markdown",
   "id": "0e1303f0",
   "metadata": {},
   "source": [
    "### 一次性访问所有参数"
   ]
  },
  {
   "cell_type": "markdown",
   "id": "01e647c1",
   "metadata": {
    "origin_pos": 17
   },
   "source": [
    "当我们需要对所有参数执行操作时，逐个访问它们可能会很麻烦。\n",
    "当我们处理更复杂的块（例如，嵌套块）时，情况可能会变得特别复杂，\n",
    "因为我们需要递归整个树来提取每个子块的参数。\n",
    "下面，我们将通过演示来比较访问第一个全连接层的参数和访问所有层。"
   ]
  },
  {
   "cell_type": "code",
   "execution_count": 6,
   "id": "916939ce",
   "metadata": {
    "execution": {
     "iopub.execute_input": "2023-08-18T07:01:10.966725Z",
     "iopub.status.busy": "2023-08-18T07:01:10.965969Z",
     "iopub.status.idle": "2023-08-18T07:01:10.972600Z",
     "shell.execute_reply": "2023-08-18T07:01:10.971655Z"
    },
    "origin_pos": 19,
    "tab": [
     "pytorch"
    ]
   },
   "outputs": [
    {
     "name": "stdout",
     "output_type": "stream",
     "text": [
      "('weight', torch.Size([8, 4])) ('bias', torch.Size([8]))\n",
      "('0.weight', torch.Size([8, 4])) ('0.bias', torch.Size([8])) ('2.weight', torch.Size([1, 8])) ('2.bias', torch.Size([1]))\n"
     ]
    }
   ],
   "source": [
    "# `*` 表示解包操作，将列表中的元素解包成多个参数，显示更加清晰\n",
    "# named_parameters() 返回网络中所有可训练参数的 名称 和 张量参数\n",
    "\n",
    "print(*[(name, param.shape) for name, param in net[0].named_parameters()])  # 第一个全连接层的参数\n",
    "print(*[(name, param.shape) for name, param in net.named_parameters()])  # 整个网络的所有参数"
   ]
  },
  {
   "cell_type": "markdown",
   "id": "c9cc1e2f",
   "metadata": {
    "origin_pos": 21
   },
   "source": [
    "这为我们提供了另一种访问网络参数的方式，如下所示。\n"
   ]
  },
  {
   "cell_type": "code",
   "execution_count": 7,
   "id": "116207ef",
   "metadata": {
    "execution": {
     "iopub.execute_input": "2023-08-18T07:01:10.977269Z",
     "iopub.status.busy": "2023-08-18T07:01:10.976623Z",
     "iopub.status.idle": "2023-08-18T07:01:10.983222Z",
     "shell.execute_reply": "2023-08-18T07:01:10.982309Z"
    },
    "origin_pos": 23,
    "tab": [
     "pytorch"
    ]
   },
   "outputs": [
    {
     "data": {
      "text/plain": [
       "tensor([0.2102])"
      ]
     },
     "execution_count": 7,
     "metadata": {},
     "output_type": "execute_result"
    }
   ],
   "source": [
    "# 通过参数名称指定访问对象\n",
    "net.state_dict()['2.bias'].data"
   ]
  },
  {
   "cell_type": "markdown",
   "id": "3f564441",
   "metadata": {},
   "source": [
    "### 从嵌套块收集参数"
   ]
  },
  {
   "cell_type": "markdown",
   "id": "f2ae2721",
   "metadata": {
    "origin_pos": 26
   },
   "source": [
    "让我们看看，如果我们将多个块相互嵌套，参数命名约定是如何工作的。\n",
    "我们首先定义一个生成块的函数（可以说是“块工厂”），然后将这些块组合到更大的块中。"
   ]
  },
  {
   "cell_type": "code",
   "execution_count": 8,
   "id": "712e31fd",
   "metadata": {
    "execution": {
     "iopub.execute_input": "2023-08-18T07:01:10.988088Z",
     "iopub.status.busy": "2023-08-18T07:01:10.987352Z",
     "iopub.status.idle": "2023-08-18T07:01:10.998245Z",
     "shell.execute_reply": "2023-08-18T07:01:10.997197Z"
    },
    "origin_pos": 28,
    "tab": [
     "pytorch"
    ]
   },
   "outputs": [
    {
     "data": {
      "text/plain": [
       "tensor([[0.4231],\n",
       "        [0.4231]], grad_fn=<AddmmBackward0>)"
      ]
     },
     "execution_count": 8,
     "metadata": {},
     "output_type": "execute_result"
    }
   ],
   "source": [
    "def block1():  # block 由 layer 组成\n",
    "    return nn.Sequential(nn.Linear(4, 8), nn.ReLU(),\n",
    "                         nn.Linear(8, 4), nn.ReLU())\n",
    "\n",
    "def block2():  # block 之间还可以拼接\n",
    "    net = nn.Sequential()\n",
    "    for i in range(4):\n",
    "        # 在这里嵌套\n",
    "        net.add_module(f'block {i}', block1())  # 将子模块添加 Sequential 中，并且可以给该模块名字（若初始化拼接时的名字只能是 0 1 2 ...）\n",
    "    return net\n",
    "\n",
    "rgnet = nn.Sequential(block2(), nn.Linear(4, 1))\n",
    "rgnet(X)"
   ]
  },
  {
   "cell_type": "markdown",
   "id": "ac9958fb",
   "metadata": {
    "origin_pos": 31
   },
   "source": [
    "设计了网络后，我们看看它是如何工作的。"
   ]
  },
  {
   "cell_type": "code",
   "execution_count": 9,
   "id": "c7d7717d",
   "metadata": {
    "execution": {
     "iopub.execute_input": "2023-08-18T07:01:11.002889Z",
     "iopub.status.busy": "2023-08-18T07:01:11.002264Z",
     "iopub.status.idle": "2023-08-18T07:01:11.007643Z",
     "shell.execute_reply": "2023-08-18T07:01:11.006464Z"
    },
    "origin_pos": 33,
    "tab": [
     "pytorch"
    ]
   },
   "outputs": [
    {
     "name": "stdout",
     "output_type": "stream",
     "text": [
      "Sequential(\n",
      "  (0): Sequential(\n",
      "    (block 0): Sequential(\n",
      "      (0): Linear(in_features=4, out_features=8, bias=True)\n",
      "      (1): ReLU()\n",
      "      (2): Linear(in_features=8, out_features=4, bias=True)\n",
      "      (3): ReLU()\n",
      "    )\n",
      "    (block 1): Sequential(\n",
      "      (0): Linear(in_features=4, out_features=8, bias=True)\n",
      "      (1): ReLU()\n",
      "      (2): Linear(in_features=8, out_features=4, bias=True)\n",
      "      (3): ReLU()\n",
      "    )\n",
      "    (block 2): Sequential(\n",
      "      (0): Linear(in_features=4, out_features=8, bias=True)\n",
      "      (1): ReLU()\n",
      "      (2): Linear(in_features=8, out_features=4, bias=True)\n",
      "      (3): ReLU()\n",
      "    )\n",
      "    (block 3): Sequential(\n",
      "      (0): Linear(in_features=4, out_features=8, bias=True)\n",
      "      (1): ReLU()\n",
      "      (2): Linear(in_features=8, out_features=4, bias=True)\n",
      "      (3): ReLU()\n",
      "    )\n",
      "  )\n",
      "  (1): Linear(in_features=4, out_features=1, bias=True)\n",
      ")\n"
     ]
    }
   ],
   "source": [
    "print(rgnet)  # 好多嵌套"
   ]
  },
  {
   "cell_type": "markdown",
   "id": "1c49f699",
   "metadata": {
    "origin_pos": 35
   },
   "source": [
    "因为层是分层嵌套的，所以我们也可以像通过嵌套列表索引一样访问它们。\n",
    "下面，我们访问第一个主要的块中、第二个子块的第一层的偏置项。\n"
   ]
  },
  {
   "cell_type": "code",
   "execution_count": 10,
   "id": "939ba4d3",
   "metadata": {
    "execution": {
     "iopub.execute_input": "2023-08-18T07:01:11.012522Z",
     "iopub.status.busy": "2023-08-18T07:01:11.011839Z",
     "iopub.status.idle": "2023-08-18T07:01:11.018508Z",
     "shell.execute_reply": "2023-08-18T07:01:11.017590Z"
    },
    "origin_pos": 37,
    "tab": [
     "pytorch"
    ]
   },
   "outputs": [
    {
     "data": {
      "text/plain": [
       "tensor([ 0.3799,  0.3175,  0.0822,  0.1700,  0.3837,  0.2635, -0.2421, -0.4854])"
      ]
     },
     "execution_count": 10,
     "metadata": {},
     "output_type": "execute_result"
    }
   ],
   "source": [
    "rgnet[0][1][0].bias.data"
   ]
  },
  {
   "cell_type": "markdown",
   "id": "ac8a7e3d",
   "metadata": {},
   "source": [
    "## 参数初始化"
   ]
  },
  {
   "cell_type": "markdown",
   "id": "0383b6a9",
   "metadata": {
    "origin_pos": 40
   },
   "source": [
    "知道了如何访问参数后，现在我们看看如何正确地初始化参数。\n",
    "我们在`sec_numerical_stability`中讨论了良好初始化的必要性。\n",
    "深度学习框架提供默认随机初始化，\n",
    "也允许我们创建自定义初始化方法，\n",
    "满足我们通过其他规则实现初始化权重。"
   ]
  },
  {
   "cell_type": "markdown",
   "id": "0418f044",
   "metadata": {
    "origin_pos": 42,
    "tab": [
     "pytorch"
    ]
   },
   "source": [
    "默认情况下，PyTorch会根据一个范围均匀地初始化权重和偏置矩阵，\n",
    "这个范围是根据输入和输出维度计算出的。\n",
    "PyTorch的`nn.init`模块提供了多种预置初始化方法。\n"
   ]
  },
  {
   "cell_type": "markdown",
   "id": "ad59b1fa",
   "metadata": {},
   "source": [
    "### 内置初始化"
   ]
  },
  {
   "cell_type": "markdown",
   "id": "0b0b932a",
   "metadata": {
    "origin_pos": 45
   },
   "source": [
    "让我们首先调用内置的初始化器。\n",
    "下面的代码将所有权重参数初始化为标准差为0.01的高斯随机变量，\n",
    "且将偏置参数设置为0。"
   ]
  },
  {
   "cell_type": "code",
   "execution_count": 11,
   "id": "2f00d5e7",
   "metadata": {
    "execution": {
     "iopub.execute_input": "2023-08-18T07:01:11.023955Z",
     "iopub.status.busy": "2023-08-18T07:01:11.023046Z",
     "iopub.status.idle": "2023-08-18T07:01:11.033287Z",
     "shell.execute_reply": "2023-08-18T07:01:11.032096Z"
    },
    "origin_pos": 47,
    "tab": [
     "pytorch"
    ]
   },
   "outputs": [
    {
     "data": {
      "text/plain": [
       "(tensor([-0.0029, -0.0060, -0.0146,  0.0055]), tensor(0.))"
      ]
     },
     "execution_count": 11,
     "metadata": {},
     "output_type": "execute_result"
    }
   ],
   "source": [
    "def init_normal(m):  # m 指传入的 module\n",
    "    if type(m) == nn.Linear:  # 仅对全连接层初始化参数（ReLU 不需要初始化）\n",
    "        nn.init.normal_(m.weight, mean=0, std=0.01)  # _ 以下划线结束的函数时替换（inplace）操作，而不返回值\n",
    "        nn.init.zeros_(m.bias)\n",
    "\n",
    "net.apply(init_normal)  # 对于 net 中的所有 layer 循环调用该函数（apply 接受一个函数，对里面的每个元素都使用这个函数执行一次）\n",
    "\n",
    "net[0].weight.data[0], net[0].bias.data[0]"
   ]
  },
  {
   "cell_type": "markdown",
   "id": "753e540b",
   "metadata": {
    "origin_pos": 50
   },
   "source": [
    "我们还可以将所有参数初始化为给定的常数，比如初始化为1。\n"
   ]
  },
  {
   "cell_type": "code",
   "execution_count": 12,
   "id": "49ee306c",
   "metadata": {
    "execution": {
     "iopub.execute_input": "2023-08-18T07:01:11.038321Z",
     "iopub.status.busy": "2023-08-18T07:01:11.037607Z",
     "iopub.status.idle": "2023-08-18T07:01:11.049009Z",
     "shell.execute_reply": "2023-08-18T07:01:11.047793Z"
    },
    "origin_pos": 52,
    "tab": [
     "pytorch"
    ]
   },
   "outputs": [
    {
     "data": {
      "text/plain": [
       "(tensor([1., 1., 1., 1.]), tensor(0.))"
      ]
     },
     "execution_count": 12,
     "metadata": {},
     "output_type": "execute_result"
    }
   ],
   "source": [
    "def init_constant(m):\n",
    "    if type(m) == nn.Linear:\n",
    "        nn.init.constant_(m.weight, 1)\n",
    "        nn.init.zeros_(m.bias)\n",
    "        \n",
    "net.apply(init_constant)\n",
    "net[0].weight.data[0], net[0].bias.data[0]\n",
    "# 实际不能设置为一样的常数。因为会导致其他神经单元的输入输出相同，状态梯度一致，无法进行有效的梯度更新"
   ]
  },
  {
   "cell_type": "markdown",
   "id": "e086279d",
   "metadata": {
    "origin_pos": 55
   },
   "source": [
    "我们还可以**对某些块应用不同的初始化方法**。\n",
    "例如，下面我们使用 **Xavier初始化方法** 初始化第一个神经网络层，\n",
    "然后将第三个神经网络层初始化为常量值42。"
   ]
  },
  {
   "cell_type": "code",
   "execution_count": 16,
   "id": "1a90ffaa",
   "metadata": {
    "execution": {
     "iopub.execute_input": "2023-08-18T07:01:11.054335Z",
     "iopub.status.busy": "2023-08-18T07:01:11.053550Z",
     "iopub.status.idle": "2023-08-18T07:01:11.063215Z",
     "shell.execute_reply": "2023-08-18T07:01:11.062244Z"
    },
    "origin_pos": 57,
    "tab": [
     "pytorch"
    ]
   },
   "outputs": [
    {
     "name": "stdout",
     "output_type": "stream",
     "text": [
      "tensor([[ 0.2718,  0.1172,  0.4881, -0.0084],\n",
      "        [-0.1430, -0.4807, -0.6082, -0.2512],\n",
      "        [ 0.3250, -0.5553,  0.1350,  0.1560],\n",
      "        [-0.4563, -0.5944,  0.1027,  0.1292],\n",
      "        [ 0.1202,  0.5719,  0.5145, -0.5975],\n",
      "        [ 0.3826, -0.3106, -0.1016, -0.4638],\n",
      "        [ 0.0859, -0.3792,  0.1474,  0.2977],\n",
      "        [ 0.0719,  0.4211, -0.1914,  0.5072]])\n",
      "tensor([[42., 42., 42., 42., 42., 42., 42., 42.]])\n"
     ]
    }
   ],
   "source": [
    "def init_xavier(m):\n",
    "    if type(m) == nn.Linear:\n",
    "        nn.init.xavier_uniform_(m.weight)\n",
    "\n",
    "def init_42(m):\n",
    "    if type(m) == nn.Linear:\n",
    "        nn.init.constant_(m.weight, 42)\n",
    "\n",
    "net[0].apply(init_xavier)\n",
    "net[2].apply(init_42)\n",
    "\n",
    "print(net[0].weight.data)  # W（4*8）的转置\n",
    "print(net[2].weight.data)"
   ]
  },
  {
   "cell_type": "markdown",
   "id": "6d23340f",
   "metadata": {},
   "source": [
    "### 自定义初始化"
   ]
  },
  {
   "cell_type": "markdown",
   "id": "581dcade",
   "metadata": {
    "origin_pos": 60
   },
   "source": [
    "\n",
    "\n",
    "有时，深度学习框架没有提供我们需要的初始化方法。\n",
    "在下面的例子中，我们使用以下的分布为任意权重参数$w$定义初始化方法：\n",
    "\n",
    "$$\n",
    "\\begin{aligned}\n",
    "    w \\sim \\begin{cases}\n",
    "        U(5, 10) & \\text{ 可能性 } \\frac{1}{4} \\\\\n",
    "            0    & \\text{ 可能性 } \\frac{1}{2} \\\\\n",
    "        U(-10, -5) & \\text{ 可能性 } \\frac{1}{4}\n",
    "    \\end{cases}\n",
    "\\end{aligned}\n",
    "$$\n"
   ]
  },
  {
   "cell_type": "markdown",
   "id": "12502b7c",
   "metadata": {
    "origin_pos": 62,
    "tab": [
     "pytorch"
    ]
   },
   "source": [
    "同样，我们实现了一个`my_init`函数来应用到`net`。\n"
   ]
  },
  {
   "cell_type": "code",
   "execution_count": 18,
   "id": "9166f6e3",
   "metadata": {
    "execution": {
     "iopub.execute_input": "2023-08-18T07:01:11.068164Z",
     "iopub.status.busy": "2023-08-18T07:01:11.067460Z",
     "iopub.status.idle": "2023-08-18T07:01:11.079228Z",
     "shell.execute_reply": "2023-08-18T07:01:11.078069Z"
    },
    "origin_pos": 66,
    "tab": [
     "pytorch"
    ]
   },
   "outputs": [
    {
     "name": "stdout",
     "output_type": "stream",
     "text": [
      "Init weight torch.Size([8, 4])\n",
      "Init weight torch.Size([1, 8])\n"
     ]
    },
    {
     "data": {
      "text/plain": [
       "tensor([[5.9502, 0.0000, -0.0000, -0.0000],\n",
       "        [0.0000, 0.0000, 0.0000, 0.0000]], grad_fn=<SliceBackward0>)"
      ]
     },
     "execution_count": 18,
     "metadata": {},
     "output_type": "execute_result"
    }
   ],
   "source": [
    "def my_init(m):\n",
    "    if type(m) == nn.Linear:\n",
    "        print(\"Init\", *[(name, param.shape)\n",
    "                        for name, param in m.named_parameters()][0])\n",
    "        nn.init.uniform_(m.weight, -10, 10)\n",
    "        # m.weight.data.abs() >= 5 返回一个布尔掩码矩阵，元素的值为 True/False    运算顺序从右到左\n",
    "        m.weight.data *= m.weight.data.abs() >= 5  # 保留绝对值大于5的权重，其余变为0\n",
    "\n",
    "net.apply(my_init)\n",
    "net[0].weight[:2]  # 查看权重矩阵的前两行（切片）"
   ]
  },
  {
   "cell_type": "markdown",
   "id": "030a52c5",
   "metadata": {
    "origin_pos": 69
   },
   "source": [
    "注意，我们始终可以直接设置参数。\n"
   ]
  },
  {
   "cell_type": "code",
   "execution_count": 19,
   "id": "5b9af1f8",
   "metadata": {
    "execution": {
     "iopub.execute_input": "2023-08-18T07:01:11.084158Z",
     "iopub.status.busy": "2023-08-18T07:01:11.083416Z",
     "iopub.status.idle": "2023-08-18T07:01:11.092672Z",
     "shell.execute_reply": "2023-08-18T07:01:11.091537Z"
    },
    "origin_pos": 71,
    "tab": [
     "pytorch"
    ]
   },
   "outputs": [
    {
     "data": {
      "text/plain": [
       "tensor([42.,  1.,  1.,  1.])"
      ]
     },
     "execution_count": 19,
     "metadata": {},
     "output_type": "execute_result"
    }
   ],
   "source": [
    "net[0].weight.data[:] += 1  # 所有元素加一\n",
    "net[0].weight.data[0, 0] = 42\n",
    "net[0].weight.data[0]"
   ]
  },
  {
   "cell_type": "markdown",
   "id": "929df62f",
   "metadata": {},
   "source": [
    "## 参数绑定"
   ]
  },
  {
   "cell_type": "markdown",
   "id": "a4144ff7",
   "metadata": {
    "origin_pos": 75
   },
   "source": [
    "有时我们希望**在多个层间共享参数**：\n",
    "我们可以定义一个稠密层，然后使用它的参数来设置另一个层的参数。"
   ]
  },
  {
   "cell_type": "code",
   "execution_count": 15,
   "id": "69660fa7",
   "metadata": {
    "execution": {
     "iopub.execute_input": "2023-08-18T07:01:11.097767Z",
     "iopub.status.busy": "2023-08-18T07:01:11.096948Z",
     "iopub.status.idle": "2023-08-18T07:01:11.108904Z",
     "shell.execute_reply": "2023-08-18T07:01:11.107763Z"
    },
    "origin_pos": 77,
    "tab": [
     "pytorch"
    ]
   },
   "outputs": [
    {
     "name": "stdout",
     "output_type": "stream",
     "text": [
      "tensor([True, True, True, True, True, True, True, True])\n",
      "tensor([True, True, True, True, True, True, True, True])\n"
     ]
    }
   ],
   "source": [
    "# 我们需要给共享层一个名称，以便可以引用它的参数\n",
    "shared = nn.Linear(8, 8)  # 在外部定义，后 Sequential 中多次调用同一个 module 对象（即引用的是同一块内存）\n",
    "net = nn.Sequential(nn.Linear(4, 8), nn.ReLU(),\n",
    "                    shared, nn.ReLU(),\n",
    "                    shared, nn.ReLU(),\n",
    "                    nn.Linear(8, 1))\n",
    "net(X)\n",
    "\n",
    "# 检查参数是否相同（第一个shared 和 第二个shared）\n",
    "print(net[2].weight.data[0] == net[4].weight.data[0])\n",
    "\n",
    "# 确保它们实际上是同一个对象，而不只是有相同的值\n",
    "net[2].weight.data[0, 0] = 100\n",
    "print(net[2].weight.data[0] == net[4].weight.data[0])"
   ]
  },
  {
   "cell_type": "markdown",
   "id": "81dc2c3c",
   "metadata": {
    "origin_pos": 81,
    "tab": [
     "pytorch"
    ]
   },
   "source": [
    "这个例子表明第三个和第五个神经网络层的参数是绑定的。\n",
    "**它们不仅值相等，而且由相同的张量表示。**\n",
    "因此，如果我们改变其中一个参数，另一个参数也会改变。"
   ]
  },
  {
   "cell_type": "markdown",
   "id": "1d112edb",
   "metadata": {},
   "source": [
    "这里有一个问题：当参数绑定时，梯度会发生什么情况？\n",
    "\n",
    "答案是由于模型参数包含梯度，因此在反向传播期间第二个隐藏层\n",
    "（即第三个神经网络层）和第三个隐藏层（即第五个神经网络层）的梯度会加在一起。（避免梯度下降时两层参数更新不一致/同步）"
   ]
  },
  {
   "cell_type": "markdown",
   "id": "8fbec2be",
   "metadata": {},
   "source": [
    "## 小结"
   ]
  },
  {
   "cell_type": "markdown",
   "id": "8d72602b",
   "metadata": {},
   "source": [
    "* 我们有几种方法可以访问、初始化和绑定模型参数。\n",
    "* 我们可以使用自定义初始化方法。"
   ]
  },
  {
   "cell_type": "markdown",
   "id": "ad0bbd83",
   "metadata": {},
   "source": [
    "## 练习"
   ]
  },
  {
   "cell_type": "markdown",
   "id": "ef8e6259",
   "metadata": {
    "origin_pos": 82
   },
   "source": [
    "1. 使用`sec_model_construction` 中定义的`FancyMLP`模型，访问各个层的参数。\n",
    "2. 查看初始化模块文档以了解不同的初始化方法。\n",
    "3. 构建包含共享参数层的多层感知机并对其进行训练。在训练过程中，观察模型各层的参数和梯度。\n",
    "4. 为什么共享参数是个好主意？"
   ]
  },
  {
   "cell_type": "markdown",
   "id": "ead65cf9",
   "metadata": {
    "origin_pos": 84,
    "tab": [
     "pytorch"
    ]
   },
   "source": [
    "[Discussions](https://discuss.d2l.ai/t/1829)\n"
   ]
  }
 ],
 "metadata": {
  "kernelspec": {
   "display_name": "torch2.4",
   "language": "python",
   "name": "python3"
  },
  "language_info": {
   "codemirror_mode": {
    "name": "ipython",
    "version": 3
   },
   "file_extension": ".py",
   "mimetype": "text/x-python",
   "name": "python",
   "nbconvert_exporter": "python",
   "pygments_lexer": "ipython3",
   "version": "3.9.19"
  },
  "required_libs": []
 },
 "nbformat": 4,
 "nbformat_minor": 5
}
