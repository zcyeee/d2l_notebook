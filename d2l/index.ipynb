{
 "cells": [
  {
   "cell_type": "markdown",
   "id": "46d29828",
   "metadata": {},
   "source": [
    "《动手学深度学习》\n",
    "========================"
   ]
  },
  {
   "cell_type": "markdown",
   "id": "bc53b743",
   "metadata": {
    "origin_pos": 0
   },
   "source": [
    "前言索引：\n",
    " - [chapter_preface/index](chapter_preface/index.ipynb)\n",
    " - [chapter_installation/index](chapter_installation/index.ipynb)\n",
    " - [chapter_notation/index](chapter_notation/index.ipynb)\n",
    "\n",
    "\n",
    "正文索引：\n",
    " - [chapter_introduction/index](chapter_introduction/index.ipynb)\n",
    " - [chapter_preliminaries/index](chapter_preliminaries/index.ipynb)\n",
    " - [chapter_linear-networks/index](chapter_linear-networks/index.ipynb)\n",
    " - [chapter_multilayer-perceptrons/index](chapter_multilayer-perceptrons/index.ipynb)\n",
    " - [chapter_deep-learning-computation/index](chapter_deep-learning-computation/index.ipynb)\n",
    " - [chapter_convolutional-neural-networks/index](chapter_convolutional-neural-networks/index.ipynb)\n",
    " - [chapter_convolutional-modern/index](chapter_convolutional-modern/index.ipynb)\n",
    " - [chapter_recurrent-neural-networks/index](chapter_recurrent-neural-networks/index.ipynb)\n",
    " - [chapter_recurrent-modern/index](chapter_recurrent-modern/index.ipynb)\n",
    " - [chapter_attention-mechanisms/index](chapter_attention-mechanisms/index.ipynb)\n",
    " - [chapter_optimization/index](chapter_optimization/index.ipynb)\n",
    " - [chapter_computational-performance/index](chapter_computational-performance/index.ipynb)\n",
    " - [chapter_computer-vision/index](chapter_computer-vision/index.ipynb)\n",
    " - [chapter_natural-language-processing-pretraining/index](chapter_natural-language-processing-pretraining/index.ipynb)\n",
    " - [chapter_natural-language-processing-applications/index](chapter_natural-language-processing-applications/index.ipynb)\n",
    " - [chapter_reinforcement-learning/index](chapter_reinforcement-learning/index.ipynb)\n",
    " - [chapter_gaussian-processes/index](chapter_gaussian-processes/index.ipynb)\n",
    " - [chapter_hyperparameter-optimization/index](chapter_hyperparameter-optimization/index.ipynb)\n",
    " - [chapter_generative-adversarial-networks/index](chapter_generative-adversarial-networks/index.ipynb)\n",
    " - [chapter_recommender-systems/index](chapter_recommender-systems/index.ipynb)\n",
    " \n",
    "\n",
    " 附录索引：\n",
    " - [chapter_appendix-tools-for-deep-learning/index](chapter_appendix-tools-for-deep-learning/index.ipynb)\n",
    " - [chapter_appendix-mathematics-for-deep-learning/index](chapter_appendix-mathematics-for-deep-learning/index.ipynb)"
   ]
  },
  {
   "cell_type": "markdown",
   "id": "390ec105",
   "metadata": {},
   "source": []
  }
 ],
 "metadata": {
  "kernelspec": {
   "display_name": "torch2.4",
   "language": "python",
   "name": "python3"
  },
  "language_info": {
   "name": "python",
   "version": "3.9.19"
  },
  "required_libs": []
 },
 "nbformat": 4,
 "nbformat_minor": 5
}
