{
 "cells": [
  {
   "cell_type": "markdown",
   "id": "ce921f07",
   "metadata": {},
   "source": [
    "# 附录：深度学习工具"
   ]
  },
  {
   "cell_type": "markdown",
   "id": "b6a8abfc",
   "metadata": {
    "origin_pos": 0
   },
   "source": [
    "为了充分利用《动手学深度学习》，本书将在本附录中介绍不同工具，\n",
    "例如如何运行这本交互式开源书籍和为本书做贡献。\n",
    "\n",
    "索引：\n",
    " - [jupyter](jupyter.ipynb)\n",
    " - [sagemaker](sagemaker.ipynb)\n",
    " - [aws](aws.ipynb)\n",
    " - [selecting-servers-gpus](selecting-servers-gpus.ipynb)\n",
    " - [contributing](contributing.ipynb)\n",
    " - [d2l](d2l.ipynb)"
   ]
  },
  {
   "cell_type": "markdown",
   "id": "1a29cef9",
   "metadata": {},
   "source": []
  }
 ],
 "metadata": {
  "language_info": {
   "name": "python"
  },
  "required_libs": []
 },
 "nbformat": 4,
 "nbformat_minor": 5
}
